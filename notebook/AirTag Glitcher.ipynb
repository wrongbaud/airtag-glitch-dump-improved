{
 "cells": [
  {
   "cell_type": "markdown",
   "metadata": {},
   "source": [
    "### Imports"
   ]
  },
  {
   "cell_type": "code",
   "execution_count": 42,
   "metadata": {},
   "outputs": [
    {
     "data": {
      "text/plain": [
       "['/dev/ttyACM1']"
      ]
     },
     "execution_count": 42,
     "metadata": {},
     "output_type": "execute_result"
    }
   ],
   "source": [
    "import serial\n",
    "import struct\n",
    "import subprocess\n",
    "import time\n",
    "import sys\n",
    "from tqdm.notebook import trange, tqdm\n",
    "!!ls /dev/ttyACM*"
   ]
  },
  {
   "cell_type": "markdown",
   "metadata": {},
   "source": [
    "### Setting up environment and commands"
   ]
  },
  {
   "cell_type": "code",
   "execution_count": 43,
   "metadata": {},
   "outputs": [],
   "source": [
    "try:\n",
    "    ser = serial.Serial(\"/dev/ttyACM2\")\n",
    "except:\n",
    "    ser = serial.Serial(\"/dev/ttyACM1\")\n",
    "\n",
    "\n",
    "def set_pulse(pulse):\n",
    "    ser.write(b\"\\x42\" + struct.pack(\"<I\", pulse))\n",
    "def set_delay(delay):\n",
    "    ser.write(b\"\\x41\" + struct.pack(\"<I\", delay))\n",
    "def glitch():\n",
    "    ser.write(b\"\\x43\")\n",
    "def powerup():\n",
    "    ser.write(b\"\\x44\")\n",
    "def powerdown():\n",
    "    ser.write(b\"\\x45\")"
   ]
  },
  {
   "cell_type": "markdown",
   "metadata": {},
   "source": [
    "### Function that tests for succesful debug swd connection"
   ]
  },
  {
   "cell_type": "code",
   "execution_count": 55,
   "metadata": {},
   "outputs": [],
   "source": [
    "def test_swd():\n",
    "    try:\n",
    "        subprocess.check_output(['openocd', '-f', 'interface/stlink.cfg', '-f', 'target/stm32f4x.cfg', '-c', 'init; exit'], stderr=subprocess.STDOUT)\n",
    "        return True\n",
    "    except:\n",
    "        pass\n",
    "    return False"
   ]
  },
  {
   "cell_type": "markdown",
   "metadata": {},
   "source": [
    "### Test Powerup of Airtag"
   ]
  },
  {
   "cell_type": "markdown",
   "metadata": {},
   "source": [
    "#### powerup()\n",
    "time.sleep(3)\n",
    "test_swd()"
   ]
  },
  {
   "cell_type": "markdown",
   "metadata": {},
   "source": [
    "### Test Powerdown of Airtag"
   ]
  },
  {
   "cell_type": "code",
   "execution_count": 57,
   "metadata": {},
   "outputs": [],
   "source": [
    "powerdown()"
   ]
  },
  {
   "cell_type": "markdown",
   "metadata": {},
   "source": [
    "## Run the Glitch!\n",
    "\n",
    "Adjust the range of Delay accordingly"
   ]
  },
  {
   "cell_type": "code",
   "execution_count": 44,
   "metadata": {},
   "outputs": [],
   "source": [
    "set_pulse(20)\n",
    "time.sleep(.5)\n",
    "# Glitch from range 3400 to 4600\n",
    "# 10 tries for each\n",
    "set_delay(25500)\n",
    "glitch()\n",
    "#time.sleep(3)\n",
    "#test_swd()"
   ]
  },
  {
   "cell_type": "code",
   "execution_count": 41,
   "metadata": {},
   "outputs": [
    {
     "name": "stdout",
     "output_type": "stream",
     "text": [
      "24000\n",
      "24100\n",
      "24200\n",
      "24300\n",
      "24400\n",
      "24500\n",
      "24600\n",
      "24700\n",
      "24800\n",
      "24900\n",
      "[]\n",
      "Hit 0 glitches in total!\n"
     ]
    }
   ],
   "source": [
    "hit = False\n",
    "hits = []\n",
    "count=0\n",
    "set_delay(10000)\n",
    "\n",
    "import time\n",
    "for delay in range(23500,25000,100):\n",
    "    print(delay)\n",
    "    set_delay(delay)\n",
    "    count +=1\n",
    "    glitch()\n",
    "    time.sleep(2)\n",
    "    if(test_swd()):\n",
    "        print(f\"HIT AT {delay}\")\n",
    "        hits.append(delay)\n",
    "print(hits)\n",
    "foo = len(hits)\n",
    "print(f\"Hit {foo} glitches in total!\")"
   ]
  },
  {
   "cell_type": "markdown",
   "metadata": {},
   "source": []
  }
 ],
 "metadata": {
  "kernelspec": {
   "display_name": "Python 3 (ipykernel)",
   "language": "python",
   "name": "python3"
  },
  "language_info": {
   "codemirror_mode": {
    "name": "ipython",
    "version": 3
   },
   "file_extension": ".py",
   "mimetype": "text/x-python",
   "name": "python",
   "nbconvert_exporter": "python",
   "pygments_lexer": "ipython3",
   "version": "3.10.6"
  }
 },
 "nbformat": 4,
 "nbformat_minor": 4
}
