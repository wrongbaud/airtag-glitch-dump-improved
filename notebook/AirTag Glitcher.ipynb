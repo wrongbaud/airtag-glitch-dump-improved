{
 "cells": [
  {
   "cell_type": "markdown",
   "metadata": {},
   "source": [
    "### Imports"
   ]
  },
  {
   "cell_type": "code",
   "execution_count": 1,
   "metadata": {},
   "outputs": [
    {
     "data": {
      "text/plain": [
       "['/dev/ttyACM0']"
      ]
     },
     "execution_count": 1,
     "metadata": {},
     "output_type": "execute_result"
    }
   ],
   "source": [
    "import serial\n",
    "import struct\n",
    "import subprocess\n",
    "import time\n",
    "import sys\n",
    "from tqdm.notebook import trange, tqdm\n",
    "!!ls /dev/ttyACM*"
   ]
  },
  {
   "cell_type": "markdown",
   "metadata": {},
   "source": [
    "### Setting up environment and commands"
   ]
  },
  {
   "cell_type": "code",
   "execution_count": 2,
   "metadata": {},
   "outputs": [],
   "source": [
    "try:\n",
    "    ser = serial.Serial(\"/dev/ttyACM2\")\n",
    "except:\n",
    "    ser = serial.Serial(\"/dev/ttyACM0\")\n",
    "\n",
    "\n",
    "def set_pulse(pulse):\n",
    "    ser.write(b\"\\x42\" + struct.pack(\"<I\", pulse))\n",
    "def set_delay(delay):\n",
    "    ser.write(b\"\\x41\" + struct.pack(\"<I\", delay))\n",
    "def glitch():\n",
    "    ser.write(b\"\\x43\")\n",
    "def powerup():\n",
    "    ser.write(b\"\\x44\")\n",
    "def powerdown():\n",
    "    ser.write(b\"\\x45\")"
   ]
  },
  {
   "cell_type": "markdown",
   "metadata": {},
   "source": [
    "### Function that tests for succesful debug swd connection"
   ]
  },
  {
   "cell_type": "code",
   "execution_count": 3,
   "metadata": {},
   "outputs": [],
   "source": [
    "def test_swd():\n",
    "    try:\n",
    "        subprocess.check_output(['openocd', '-f', 'interface/stlink.cfg', '-f', 'target/stm32f4x.cfg', '-c', 'init; exit'], stderr=subprocess.STDOUT)\n",
    "        return True\n",
    "    except:\n",
    "        pass\n",
    "    return False"
   ]
  },
  {
   "cell_type": "markdown",
   "metadata": {},
   "source": [
    "### Test Powerup of Airtag"
   ]
  },
  {
   "cell_type": "code",
   "execution_count": 4,
   "metadata": {},
   "outputs": [],
   "source": [
    "powerup()"
   ]
  },
  {
   "cell_type": "markdown",
   "metadata": {},
   "source": [
    "### Test Powerdown of Airtag"
   ]
  },
  {
   "cell_type": "code",
   "execution_count": 5,
   "metadata": {},
   "outputs": [],
   "source": [
    "powerdown()"
   ]
  },
  {
   "cell_type": "markdown",
   "metadata": {},
   "source": [
    "## Run the Glitch!\n",
    "\n",
    "Adjust the range of Delay accordingly"
   ]
  },
  {
   "cell_type": "code",
   "execution_count": 11,
   "metadata": {},
   "outputs": [],
   "source": [
    "set_pulse(18)\n",
    "# Glitch from range 3400 to 4600\n",
    "# 10 tries for each\n",
    "set_delay(3400)\n",
    "# Hit at 614 w/current firmware starting at 3400\n",
    "# What happens if we start at 3460? --> Hit at 1182\n",
    "# 3462\n",
    "#[3402, 3438, 3441, 3447]\n",
    "#Hit 4 glitches in total!\n",
    "# set_delay(3400)\n",
    "# [3471, 3476, 3477, 3480]\n",
    "# Hit 4 glitches in total!\n",
    "\n"
   ]
  },
  {
   "cell_type": "code",
   "execution_count": 8,
   "metadata": {},
   "outputs": [
    {
     "name": "stdout",
     "output_type": "stream",
     "text": [
      "[3471, 3476, 3477, 3480]\n",
      "Hit 4 glitches in total!\n"
     ]
    }
   ],
   "source": [
    "hit = False\n",
    "hits = []\n",
    "count=0\n",
    "set_delay(3400)\n",
    "\n",
    "import time\n",
    "for delay in range(3300,3500,1):\n",
    "    set_delay(delay)\n",
    "    for x in range(0,10):\n",
    "        count +=1\n",
    "        glitch()\n",
    "        time.sleep(1.5)\n",
    "        if(test_swd()):\n",
    "            hits.append(delay)\n",
    "            break\n",
    "print(hits)\n",
    "foo = len(hits)\n",
    "print(f\"Hit {foo} glitches in total!\")"
   ]
  },
  {
   "cell_type": "markdown",
   "metadata": {},
   "source": []
  }
 ],
 "metadata": {
  "kernelspec": {
   "display_name": "Python 3 (ipykernel)",
   "language": "python",
   "name": "python3"
  },
  "language_info": {
   "codemirror_mode": {
    "name": "ipython",
    "version": 3
   },
   "file_extension": ".py",
   "mimetype": "text/x-python",
   "name": "python",
   "nbconvert_exporter": "python",
   "pygments_lexer": "ipython3",
   "version": "3.10.6"
  }
 },
 "nbformat": 4,
 "nbformat_minor": 4
}
